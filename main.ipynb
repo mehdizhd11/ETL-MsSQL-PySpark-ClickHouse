{
 "cells": [
  {
   "cell_type": "code",
   "id": "initial_id",
   "metadata": {
    "collapsed": true,
    "ExecuteTime": {
     "end_time": "2024-10-25T10:17:18.537485Z",
     "start_time": "2024-10-25T10:17:18.456241Z"
    }
   },
   "source": [
    "from pyspark.sql import SparkSession, Window\n",
    "from pyspark.sql.functions import col, max, year, row_number\n",
    "import clickhouse_connect\n",
    "\n",
    "\n",
    "# Extractor from MsSQL\n",
    "ms_JDBC_config = \"mssql-jdbc-12.8.1.jre11.jar\"\n",
    "JDBC_config = f\"{ms_JDBC_config}\"\n",
    "ms_url = \"127.0.0.1:1433\"\n",
    "database_name = \"Mssql-ETL\"\n",
    "ms_user, ms_password = \"sa\", \"1qaz!QAZ\"\n",
    "table_name = \"SONY_daily_data\"\n",
    "\n",
    "spark = SparkSession.builder \\\n",
    "    .appName(\"MSSQL Data Extraction\") \\\n",
    "    .config(\"spark.jars\", JDBC_config) \\\n",
    "    .getOrCreate()\n",
    "\n",
    "jdbc_url = f\"jdbc:sqlserver://{ms_url};databaseName={database_name};encrypt=false;trustServerCertificate=true\"\n",
    "connection_properties = {\n",
    "    \"user\": ms_user,\n",
    "    \"password\": ms_password,\n",
    "    \"driver\": \"com.microsoft.sqlserver.jdbc.SQLServerDriver\"\n",
    "}\n",
    "\n",
    "query = f\"(SELECT * FROM {table_name}) AS temp\"\n",
    "\n",
    "df = spark.read.jdbc(url=jdbc_url, table=query, properties=connection_properties)\n",
    "df.cache()"
   ],
   "outputs": [
    {
     "name": "stderr",
     "output_type": "stream",
     "text": [
      "24/10/25 13:47:18 WARN SparkSession: Using an existing Spark session; only runtime SQL configurations will take effect.\n"
     ]
    },
    {
     "data": {
      "text/plain": [
       "DataFrame[Date: string, Open: float, High: float, Low: float, Close: float, AdjClose: float, Volume: int]"
      ]
     },
     "execution_count": 43,
     "metadata": {},
     "output_type": "execute_result"
    }
   ],
   "execution_count": 43
  },
  {
   "metadata": {
    "ExecuteTime": {
     "end_time": "2024-10-25T10:15:36.539880Z",
     "start_time": "2024-10-25T10:15:36.393032Z"
    }
   },
   "cell_type": "code",
   "source": [
    "# Transform to pandas DataFrame\n",
    "pd_df = df.toPandas()"
   ],
   "id": "a724b16721438510",
   "outputs": [],
   "execution_count": 37
  },
  {
   "metadata": {
    "ExecuteTime": {
     "end_time": "2024-10-25T10:17:21.436667Z",
     "start_time": "2024-10-25T10:17:21.264193Z"
    }
   },
   "cell_type": "code",
   "source": [
    "# Max High Low difference\n",
    "print(\"Max High Low difference\")\n",
    "df.createOrReplaceTempView(f\"{table_name}_view\")\n",
    "max_high_low_df = spark.sql(f\"\"\"\n",
    "    SELECT DATE, HIGH - LOW AS HIGH_LOW \n",
    "    FROM {table_name}_view \n",
    "    WHERE HIGH - LOW = (SELECT MAX(HIGH - LOW) FROM {table_name}_view)\n",
    "\"\"\")\n",
    "max_high_low_df.show()"
   ],
   "id": "5672e870ae04e6fb",
   "outputs": [
    {
     "name": "stdout",
     "output_type": "stream",
     "text": [
      "Max High Low difference\n",
      "+----------+--------+\n",
      "|      DATE|HIGH_LOW|\n",
      "+----------+--------+\n",
      "|2000-09-27|  13.375|\n",
      "+----------+--------+\n",
      "\n"
     ]
    }
   ],
   "execution_count": 44
  },
  {
   "metadata": {
    "ExecuteTime": {
     "end_time": "2024-10-25T10:17:23.405111Z",
     "start_time": "2024-10-25T10:17:23.311365Z"
    }
   },
   "cell_type": "code",
   "source": [
    "# DataFrame API Query\n",
    "df_with_diff = df.withColumn(\"HIGH_LOW\", col(\"HIGH\") - col(\"LOW\"))\n",
    "max_high_low_value = df_with_diff.agg(max(\"HIGH_LOW\")).collect()[0][0]\n",
    "max_high_low_df = df_with_diff.filter(col(\"HIGH_LOW\") == max_high_low_value)\n",
    "max_high_low_df.select(\"DATE\", \"HIGH_LOW\").show()"
   ],
   "id": "2879e4e1516bfb0e",
   "outputs": [
    {
     "name": "stdout",
     "output_type": "stream",
     "text": [
      "+----------+--------+\n",
      "|      DATE|HIGH_LOW|\n",
      "+----------+--------+\n",
      "|2000-09-27|  13.375|\n",
      "+----------+--------+\n",
      "\n"
     ]
    }
   ],
   "execution_count": 45
  },
  {
   "metadata": {
    "ExecuteTime": {
     "end_time": "2024-10-25T10:17:24.613715Z",
     "start_time": "2024-10-25T10:17:24.499015Z"
    }
   },
   "cell_type": "code",
   "source": [
    "# Identify the top 3 trading days (by volume) each year,\n",
    "# along with the corresponding High, Low, and the percentage change between Open and Close prices for those days.\n",
    "print(\"Top trading days in year\")\n",
    "top_days_df = spark.sql(f\"\"\"\n",
    "    WITH DateGroup AS (\n",
    "        SELECT DATE, HIGH, LOW, VOLUME, (CLOSE - OPEN) / CLOSE * 100 AS PC,\n",
    "               ROW_NUMBER() OVER (PARTITION BY YEAR(DATE) ORDER BY VOLUME DESC) AS RowNum\n",
    "        FROM {table_name}_view\n",
    "    )\n",
    "    SELECT * \n",
    "    FROM DateGroup \n",
    "    WHERE RowNum < 4 \n",
    "    ORDER BY YEAR(DATE), RowNum\n",
    "\"\"\")\n",
    "top_days_df.show()"
   ],
   "id": "2289c26b7de72206",
   "outputs": [
    {
     "name": "stdout",
     "output_type": "stream",
     "text": [
      "Top trading days in year\n",
      "+----------+---------+---------+-------+-------------------+------+\n",
      "|      DATE|     HIGH|      LOW| VOLUME|                 PC|RowNum|\n",
      "+----------+---------+---------+-------+-------------------+------+\n",
      "|1980-12-18| 7.159091| 6.988636|2198460| 1.6000084863278141|     1|\n",
      "|1980-12-22| 7.215909| 7.102273|1560460|  1.574798362609363|     2|\n",
      "|1980-12-19| 7.159091| 7.102273| 914980|                0.0|     3|\n",
      "|1981-03-24| 8.693182| 8.522727|3331900|                0.0|     1|\n",
      "|1981-03-10| 8.238636| 7.727273|3039520| 3.4965045635516825|     2|\n",
      "|1981-04-28| 9.147727| 8.920455|2883100| 1.8749942958354404|     3|\n",
      "|1982-11-10| 7.840909| 7.613636|5396380| 0.7407508714039628|     1|\n",
      "|1982-12-21| 6.647727| 6.363636|5269660|-1.7543805405045676|     2|\n",
      "|1982-11-04| 7.045455| 6.818182|5068580|                0.0|     3|\n",
      "|1983-03-03| 6.136364| 5.909091|5281760| 3.7037077329447583|     1|\n",
      "|1983-06-28| 6.534091| 6.306818|4388780|-1.7857239197716805|     2|\n",
      "|1983-03-04| 6.647727| 6.136364|4321900|  5.263156344906067|     3|\n",
      "|1984-09-27| 7.670455|      7.5|5764000|                0.0|     1|\n",
      "|1984-09-26| 7.613636|      7.5|4972000|                0.0|     2|\n",
      "|1984-08-29| 6.704545| 6.363636|4083200|  4.273505744875619|     3|\n",
      "|1985-02-14| 7.727273| 7.443182|4144800|-0.7518774219456131|     1|\n",
      "|1985-02-27| 8.238636| 8.011364|4004000| 2.0833270196560125|     2|\n",
      "|1985-02-11| 7.443182| 7.329545|3214200|                0.0|     3|\n",
      "|1986-02-13|     8.75| 8.522727|3564000|-2.0000051472983342|     1|\n",
      "|1986-10-23|10.681818|10.284091|2816000| 3.7234018808470686|     2|\n",
      "+----------+---------+---------+-------+-------------------+------+\n",
      "only showing top 20 rows\n",
      "\n"
     ]
    }
   ],
   "execution_count": 46
  },
  {
   "metadata": {
    "ExecuteTime": {
     "end_time": "2024-10-25T10:17:26.539432Z",
     "start_time": "2024-10-25T10:17:26.424491Z"
    }
   },
   "cell_type": "code",
   "source": [
    "# DataFrame API Query\n",
    "window_spec = Window.partitionBy(year(\"DATE\")).orderBy(col(\"VOLUME\").desc())\n",
    "df_with_row_num = df.withColumn(\"ROW_NUM\", row_number().over(window_spec))\n",
    "top_3_per_year = df_with_row_num.filter(col(\"ROW_NUM\") <= 3)\n",
    "final_top = top_3_per_year.withColumn(\"PC\", (col(\"CLOSE\") - col(\"OPEN\")) / col(\"CLOSE\") * 100)\n",
    "final_top = final_top.select(\"DATE\", \"HIGH\", \"LOW\", \"VOLUME\", \"PC\", \"ROW_NUM\")\n",
    "final_top.show()"
   ],
   "id": "1b065150746894b7",
   "outputs": [
    {
     "name": "stdout",
     "output_type": "stream",
     "text": [
      "+----------+---------+---------+-------+-------------------+-------+\n",
      "|      DATE|     HIGH|      LOW| VOLUME|                 PC|ROW_NUM|\n",
      "+----------+---------+---------+-------+-------------------+-------+\n",
      "|1980-12-18| 7.159091| 6.988636|2198460| 1.6000084863278141|      1|\n",
      "|1980-12-22| 7.215909| 7.102273|1560460|  1.574798362609363|      2|\n",
      "|1980-12-19| 7.159091| 7.102273| 914980|                0.0|      3|\n",
      "|1981-03-24| 8.693182| 8.522727|3331900|                0.0|      1|\n",
      "|1981-03-10| 8.238636| 7.727273|3039520| 3.4965045635516825|      2|\n",
      "|1981-04-28| 9.147727| 8.920455|2883100| 1.8749942958354404|      3|\n",
      "|1982-11-10| 7.840909| 7.613636|5396380| 0.7407508714039628|      1|\n",
      "|1982-12-21| 6.647727| 6.363636|5269660|-1.7543805405045676|      2|\n",
      "|1982-11-04| 7.045455| 6.818182|5068580|                0.0|      3|\n",
      "|1983-03-03| 6.136364| 5.909091|5281760| 3.7037077329447583|      1|\n",
      "|1983-06-28| 6.534091| 6.306818|4388780|-1.7857239197716805|      2|\n",
      "|1983-03-04| 6.647727| 6.136364|4321900|  5.263156344906067|      3|\n",
      "|1984-09-27| 7.670455|      7.5|5764000|                0.0|      1|\n",
      "|1984-09-26| 7.613636|      7.5|4972000|                0.0|      2|\n",
      "|1984-08-29| 6.704545| 6.363636|4083200|  4.273505744875619|      3|\n",
      "|1985-02-14| 7.727273| 7.443182|4144800|-0.7518774219456131|      1|\n",
      "|1985-02-27| 8.238636| 8.011364|4004000| 2.0833270196560125|      2|\n",
      "|1985-02-11| 7.443182| 7.329545|3214200|                0.0|      3|\n",
      "|1986-02-13|     8.75| 8.522727|3564000|-2.0000051472983342|      1|\n",
      "|1986-10-23|10.681818|10.284091|2816000| 3.7234018808470686|      2|\n",
      "+----------+---------+---------+-------+-------------------+-------+\n",
      "only showing top 20 rows\n",
      "\n"
     ]
    }
   ],
   "execution_count": 47
  },
  {
   "metadata": {
    "ExecuteTime": {
     "end_time": "2024-10-25T10:17:47.520900Z",
     "start_time": "2024-10-25T10:17:47.439356Z"
    }
   },
   "cell_type": "code",
   "source": [
    "# Load DataFrame to ClickHouse with pandas DataFrame\n",
    "ch_host = \"127.0.0.1\"\n",
    "ch_port = 8123\n",
    "ch_database = \"default\"\n",
    "ch_table = \"SONY_DF\"\n",
    "client = clickhouse_connect.get_client(host=ch_host, port=ch_port, database=ch_database)\n",
    "\n",
    "create_table_query = f\"\"\"\n",
    "CREATE TABLE IF NOT EXISTS {ch_table} (\n",
    "    DATE String,\n",
    "    HIGH Float64,\n",
    "    LOW Float64,\n",
    "    VOLUME Float64,\n",
    "    PC Float64,\n",
    "    ROW_NUM UInt64\n",
    ") ENGINE = MergeTree()\n",
    "ORDER BY DATE;\n",
    "\"\"\"\n",
    "client.query(create_table_query)\n",
    "\n",
    "pandas_df = final_top.toPandas()\n",
    "client.insert_df(table=ch_table, df=pandas_df)"
   ],
   "id": "d49a158bf9450e6b",
   "outputs": [
    {
     "data": {
      "text/plain": [
       "<clickhouse_connect.driver.summary.QuerySummary at 0x164f90290>"
      ]
     },
     "execution_count": 49,
     "metadata": {},
     "output_type": "execute_result"
    }
   ],
   "execution_count": 49
  }
 ],
 "metadata": {
  "kernelspec": {
   "display_name": "Python 3",
   "language": "python",
   "name": "python3"
  },
  "language_info": {
   "codemirror_mode": {
    "name": "ipython",
    "version": 2
   },
   "file_extension": ".py",
   "mimetype": "text/x-python",
   "name": "python",
   "nbconvert_exporter": "python",
   "pygments_lexer": "ipython2",
   "version": "2.7.6"
  }
 },
 "nbformat": 4,
 "nbformat_minor": 5
}
